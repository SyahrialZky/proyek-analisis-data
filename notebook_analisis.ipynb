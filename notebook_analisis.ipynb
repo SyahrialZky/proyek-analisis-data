{
 "cells": [
  {
   "cell_type": "markdown",
   "id": "EJDR2icDd4VQ",
   "metadata": {
    "id": "EJDR2icDd4VQ"
   },
   "source": [
    "# Proyek Analisis Data: [Bike Sharing Dataset]\n",
    "- **Nama:** [Syahrial Rizky]\n",
    "- **Email:** [m296b4ky4250@bangkit.academy]\n",
    "- **ID Dicoding:** [syahrial_rizky]"
   ]
  },
  {
   "cell_type": "markdown",
   "id": "d2-sYqdKfFEO",
   "metadata": {
    "id": "d2-sYqdKfFEO"
   },
   "source": [
    "## Menentukan Pertanyaan Bisnis"
   ]
  },
  {
   "cell_type": "markdown",
   "id": "glD3jfATfHFk",
   "metadata": {
    "id": "glD3jfATfHFk"
   },
   "source": [
    "- Bagaimana pengaruh cuaca terhadap jumlah penyewaan sepeda?\n",
    "- Bagaimana penyewaan sepeda di weekday,workingday, dan holiday?\n",
    "- Bagaimana pengaruh musim terhadap jumlah penyewaan sepeda?\n",
    "- Bagaimana perbandingan penyewaan sepeda di tahun 2011 dan 2012?"
   ]
  },
  {
   "cell_type": "markdown",
   "id": "eB0bSxiPiz1v",
   "metadata": {
    "id": "eB0bSxiPiz1v"
   },
   "source": [
    "## Import Semua Packages/Library yang Digunakan"
   ]
  },
  {
   "cell_type": "code",
   "execution_count": 1,
   "id": "e6d90f86-bd35-46a3-869c-e1f2639d236f",
   "metadata": {
    "id": "e6d90f86-bd35-46a3-869c-e1f2639d236f"
   },
   "outputs": [],
   "source": [
    "import numpy as np\n",
    "import pandas as pd\n",
    "import matplotlib.pyplot as plt\n",
    "import seaborn as sns\n",
    "from datetime import datetime"
   ]
  },
  {
   "cell_type": "markdown",
   "id": "cOjiCT9Bi75V",
   "metadata": {
    "id": "cOjiCT9Bi75V"
   },
   "source": [
    "## Data Wrangling"
   ]
  },
  {
   "cell_type": "markdown",
   "id": "ynqr0w3EjBrY",
   "metadata": {
    "id": "ynqr0w3EjBrY"
   },
   "source": [
    "### Gathering Data"
   ]
  },
  {
   "cell_type": "markdown",
   "id": "Ey4oz1SVjFip",
   "metadata": {
    "id": "Ey4oz1SVjFip"
   },
   "source": [
    "**Load data day.csv**"
   ]
  },
  {
   "cell_type": "code",
   "execution_count": 2,
   "id": "14ee23c8-4419-44d2-8715-3bb881d6da2b",
   "metadata": {
    "id": "14ee23c8-4419-44d2-8715-3bb881d6da2b",
    "outputId": "77a0e2af-4d57-4b5e-aa42-5843b4b110a0"
   },
   "outputs": [
    {
     "data": {
      "text/html": [
       "<div>\n",
       "<style scoped>\n",
       "    .dataframe tbody tr th:only-of-type {\n",
       "        vertical-align: middle;\n",
       "    }\n",
       "\n",
       "    .dataframe tbody tr th {\n",
       "        vertical-align: top;\n",
       "    }\n",
       "\n",
       "    .dataframe thead th {\n",
       "        text-align: right;\n",
       "    }\n",
       "</style>\n",
       "<table border=\"1\" class=\"dataframe\">\n",
       "  <thead>\n",
       "    <tr style=\"text-align: right;\">\n",
       "      <th></th>\n",
       "      <th>instant</th>\n",
       "      <th>dteday</th>\n",
       "      <th>season</th>\n",
       "      <th>yr</th>\n",
       "      <th>mnth</th>\n",
       "      <th>holiday</th>\n",
       "      <th>weekday</th>\n",
       "      <th>workingday</th>\n",
       "      <th>weathersit</th>\n",
       "      <th>temp</th>\n",
       "      <th>atemp</th>\n",
       "      <th>hum</th>\n",
       "      <th>windspeed</th>\n",
       "      <th>casual</th>\n",
       "      <th>registered</th>\n",
       "      <th>cnt</th>\n",
       "    </tr>\n",
       "  </thead>\n",
       "  <tbody>\n",
       "    <tr>\n",
       "      <th>0</th>\n",
       "      <td>1</td>\n",
       "      <td>2011-01-01</td>\n",
       "      <td>1</td>\n",
       "      <td>0</td>\n",
       "      <td>1</td>\n",
       "      <td>0</td>\n",
       "      <td>6</td>\n",
       "      <td>0</td>\n",
       "      <td>2</td>\n",
       "      <td>0.344167</td>\n",
       "      <td>0.363625</td>\n",
       "      <td>0.805833</td>\n",
       "      <td>0.160446</td>\n",
       "      <td>331</td>\n",
       "      <td>654</td>\n",
       "      <td>985</td>\n",
       "    </tr>\n",
       "    <tr>\n",
       "      <th>1</th>\n",
       "      <td>2</td>\n",
       "      <td>2011-01-02</td>\n",
       "      <td>1</td>\n",
       "      <td>0</td>\n",
       "      <td>1</td>\n",
       "      <td>0</td>\n",
       "      <td>0</td>\n",
       "      <td>0</td>\n",
       "      <td>2</td>\n",
       "      <td>0.363478</td>\n",
       "      <td>0.353739</td>\n",
       "      <td>0.696087</td>\n",
       "      <td>0.248539</td>\n",
       "      <td>131</td>\n",
       "      <td>670</td>\n",
       "      <td>801</td>\n",
       "    </tr>\n",
       "    <tr>\n",
       "      <th>2</th>\n",
       "      <td>3</td>\n",
       "      <td>2011-01-03</td>\n",
       "      <td>1</td>\n",
       "      <td>0</td>\n",
       "      <td>1</td>\n",
       "      <td>0</td>\n",
       "      <td>1</td>\n",
       "      <td>1</td>\n",
       "      <td>1</td>\n",
       "      <td>0.196364</td>\n",
       "      <td>0.189405</td>\n",
       "      <td>0.437273</td>\n",
       "      <td>0.248309</td>\n",
       "      <td>120</td>\n",
       "      <td>1229</td>\n",
       "      <td>1349</td>\n",
       "    </tr>\n",
       "    <tr>\n",
       "      <th>3</th>\n",
       "      <td>4</td>\n",
       "      <td>2011-01-04</td>\n",
       "      <td>1</td>\n",
       "      <td>0</td>\n",
       "      <td>1</td>\n",
       "      <td>0</td>\n",
       "      <td>2</td>\n",
       "      <td>1</td>\n",
       "      <td>1</td>\n",
       "      <td>0.200000</td>\n",
       "      <td>0.212122</td>\n",
       "      <td>0.590435</td>\n",
       "      <td>0.160296</td>\n",
       "      <td>108</td>\n",
       "      <td>1454</td>\n",
       "      <td>1562</td>\n",
       "    </tr>\n",
       "    <tr>\n",
       "      <th>4</th>\n",
       "      <td>5</td>\n",
       "      <td>2011-01-05</td>\n",
       "      <td>1</td>\n",
       "      <td>0</td>\n",
       "      <td>1</td>\n",
       "      <td>0</td>\n",
       "      <td>3</td>\n",
       "      <td>1</td>\n",
       "      <td>1</td>\n",
       "      <td>0.226957</td>\n",
       "      <td>0.229270</td>\n",
       "      <td>0.436957</td>\n",
       "      <td>0.186900</td>\n",
       "      <td>82</td>\n",
       "      <td>1518</td>\n",
       "      <td>1600</td>\n",
       "    </tr>\n",
       "    <tr>\n",
       "      <th>5</th>\n",
       "      <td>6</td>\n",
       "      <td>2011-01-06</td>\n",
       "      <td>1</td>\n",
       "      <td>0</td>\n",
       "      <td>1</td>\n",
       "      <td>0</td>\n",
       "      <td>4</td>\n",
       "      <td>1</td>\n",
       "      <td>1</td>\n",
       "      <td>0.204348</td>\n",
       "      <td>0.233209</td>\n",
       "      <td>0.518261</td>\n",
       "      <td>0.089565</td>\n",
       "      <td>88</td>\n",
       "      <td>1518</td>\n",
       "      <td>1606</td>\n",
       "    </tr>\n",
       "    <tr>\n",
       "      <th>6</th>\n",
       "      <td>7</td>\n",
       "      <td>2011-01-07</td>\n",
       "      <td>1</td>\n",
       "      <td>0</td>\n",
       "      <td>1</td>\n",
       "      <td>0</td>\n",
       "      <td>5</td>\n",
       "      <td>1</td>\n",
       "      <td>2</td>\n",
       "      <td>0.196522</td>\n",
       "      <td>0.208839</td>\n",
       "      <td>0.498696</td>\n",
       "      <td>0.168726</td>\n",
       "      <td>148</td>\n",
       "      <td>1362</td>\n",
       "      <td>1510</td>\n",
       "    </tr>\n",
       "    <tr>\n",
       "      <th>7</th>\n",
       "      <td>8</td>\n",
       "      <td>2011-01-08</td>\n",
       "      <td>1</td>\n",
       "      <td>0</td>\n",
       "      <td>1</td>\n",
       "      <td>0</td>\n",
       "      <td>6</td>\n",
       "      <td>0</td>\n",
       "      <td>2</td>\n",
       "      <td>0.165000</td>\n",
       "      <td>0.162254</td>\n",
       "      <td>0.535833</td>\n",
       "      <td>0.266804</td>\n",
       "      <td>68</td>\n",
       "      <td>891</td>\n",
       "      <td>959</td>\n",
       "    </tr>\n",
       "    <tr>\n",
       "      <th>8</th>\n",
       "      <td>9</td>\n",
       "      <td>2011-01-09</td>\n",
       "      <td>1</td>\n",
       "      <td>0</td>\n",
       "      <td>1</td>\n",
       "      <td>0</td>\n",
       "      <td>0</td>\n",
       "      <td>0</td>\n",
       "      <td>1</td>\n",
       "      <td>0.138333</td>\n",
       "      <td>0.116175</td>\n",
       "      <td>0.434167</td>\n",
       "      <td>0.361950</td>\n",
       "      <td>54</td>\n",
       "      <td>768</td>\n",
       "      <td>822</td>\n",
       "    </tr>\n",
       "    <tr>\n",
       "      <th>9</th>\n",
       "      <td>10</td>\n",
       "      <td>2011-01-10</td>\n",
       "      <td>1</td>\n",
       "      <td>0</td>\n",
       "      <td>1</td>\n",
       "      <td>0</td>\n",
       "      <td>1</td>\n",
       "      <td>1</td>\n",
       "      <td>1</td>\n",
       "      <td>0.150833</td>\n",
       "      <td>0.150888</td>\n",
       "      <td>0.482917</td>\n",
       "      <td>0.223267</td>\n",
       "      <td>41</td>\n",
       "      <td>1280</td>\n",
       "      <td>1321</td>\n",
       "    </tr>\n",
       "  </tbody>\n",
       "</table>\n",
       "</div>"
      ],
      "text/plain": [
       "   instant      dteday  season  yr  mnth  holiday  weekday  workingday  \\\n",
       "0        1  2011-01-01       1   0     1        0        6           0   \n",
       "1        2  2011-01-02       1   0     1        0        0           0   \n",
       "2        3  2011-01-03       1   0     1        0        1           1   \n",
       "3        4  2011-01-04       1   0     1        0        2           1   \n",
       "4        5  2011-01-05       1   0     1        0        3           1   \n",
       "5        6  2011-01-06       1   0     1        0        4           1   \n",
       "6        7  2011-01-07       1   0     1        0        5           1   \n",
       "7        8  2011-01-08       1   0     1        0        6           0   \n",
       "8        9  2011-01-09       1   0     1        0        0           0   \n",
       "9       10  2011-01-10       1   0     1        0        1           1   \n",
       "\n",
       "   weathersit      temp     atemp       hum  windspeed  casual  registered  \\\n",
       "0           2  0.344167  0.363625  0.805833   0.160446     331         654   \n",
       "1           2  0.363478  0.353739  0.696087   0.248539     131         670   \n",
       "2           1  0.196364  0.189405  0.437273   0.248309     120        1229   \n",
       "3           1  0.200000  0.212122  0.590435   0.160296     108        1454   \n",
       "4           1  0.226957  0.229270  0.436957   0.186900      82        1518   \n",
       "5           1  0.204348  0.233209  0.518261   0.089565      88        1518   \n",
       "6           2  0.196522  0.208839  0.498696   0.168726     148        1362   \n",
       "7           2  0.165000  0.162254  0.535833   0.266804      68         891   \n",
       "8           1  0.138333  0.116175  0.434167   0.361950      54         768   \n",
       "9           1  0.150833  0.150888  0.482917   0.223267      41        1280   \n",
       "\n",
       "    cnt  \n",
       "0   985  \n",
       "1   801  \n",
       "2  1349  \n",
       "3  1562  \n",
       "4  1600  \n",
       "5  1606  \n",
       "6  1510  \n",
       "7   959  \n",
       "8   822  \n",
       "9  1321  "
      ]
     },
     "execution_count": 2,
     "metadata": {},
     "output_type": "execute_result"
    }
   ],
   "source": [
    "df_day = pd.read_csv(\"data/day.csv\")\n",
    "df_day.head(10)"
   ]
  },
  {
   "cell_type": "markdown",
   "id": "VOxWzD8cjON6",
   "metadata": {
    "id": "VOxWzD8cjON6"
   },
   "source": [
    "**Load data hour.csv**"
   ]
  },
  {
   "cell_type": "code",
   "execution_count": 3,
   "id": "c633c0c7-1b92-4c81-8e4d-c04d21485892",
   "metadata": {
    "id": "c633c0c7-1b92-4c81-8e4d-c04d21485892",
    "outputId": "c8bc6ade-bc49-41de-e3da-4354060d7065"
   },
   "outputs": [
    {
     "data": {
      "text/html": [
       "<div>\n",
       "<style scoped>\n",
       "    .dataframe tbody tr th:only-of-type {\n",
       "        vertical-align: middle;\n",
       "    }\n",
       "\n",
       "    .dataframe tbody tr th {\n",
       "        vertical-align: top;\n",
       "    }\n",
       "\n",
       "    .dataframe thead th {\n",
       "        text-align: right;\n",
       "    }\n",
       "</style>\n",
       "<table border=\"1\" class=\"dataframe\">\n",
       "  <thead>\n",
       "    <tr style=\"text-align: right;\">\n",
       "      <th></th>\n",
       "      <th>instant</th>\n",
       "      <th>dteday</th>\n",
       "      <th>season</th>\n",
       "      <th>yr</th>\n",
       "      <th>mnth</th>\n",
       "      <th>hr</th>\n",
       "      <th>holiday</th>\n",
       "      <th>weekday</th>\n",
       "      <th>workingday</th>\n",
       "      <th>weathersit</th>\n",
       "      <th>temp</th>\n",
       "      <th>atemp</th>\n",
       "      <th>hum</th>\n",
       "      <th>windspeed</th>\n",
       "      <th>casual</th>\n",
       "      <th>registered</th>\n",
       "      <th>cnt</th>\n",
       "    </tr>\n",
       "  </thead>\n",
       "  <tbody>\n",
       "    <tr>\n",
       "      <th>0</th>\n",
       "      <td>1</td>\n",
       "      <td>2011-01-01</td>\n",
       "      <td>1</td>\n",
       "      <td>0</td>\n",
       "      <td>1</td>\n",
       "      <td>0</td>\n",
       "      <td>0</td>\n",
       "      <td>6</td>\n",
       "      <td>0</td>\n",
       "      <td>1</td>\n",
       "      <td>0.24</td>\n",
       "      <td>0.2879</td>\n",
       "      <td>0.81</td>\n",
       "      <td>0.0000</td>\n",
       "      <td>3</td>\n",
       "      <td>13</td>\n",
       "      <td>16</td>\n",
       "    </tr>\n",
       "    <tr>\n",
       "      <th>1</th>\n",
       "      <td>2</td>\n",
       "      <td>2011-01-01</td>\n",
       "      <td>1</td>\n",
       "      <td>0</td>\n",
       "      <td>1</td>\n",
       "      <td>1</td>\n",
       "      <td>0</td>\n",
       "      <td>6</td>\n",
       "      <td>0</td>\n",
       "      <td>1</td>\n",
       "      <td>0.22</td>\n",
       "      <td>0.2727</td>\n",
       "      <td>0.80</td>\n",
       "      <td>0.0000</td>\n",
       "      <td>8</td>\n",
       "      <td>32</td>\n",
       "      <td>40</td>\n",
       "    </tr>\n",
       "    <tr>\n",
       "      <th>2</th>\n",
       "      <td>3</td>\n",
       "      <td>2011-01-01</td>\n",
       "      <td>1</td>\n",
       "      <td>0</td>\n",
       "      <td>1</td>\n",
       "      <td>2</td>\n",
       "      <td>0</td>\n",
       "      <td>6</td>\n",
       "      <td>0</td>\n",
       "      <td>1</td>\n",
       "      <td>0.22</td>\n",
       "      <td>0.2727</td>\n",
       "      <td>0.80</td>\n",
       "      <td>0.0000</td>\n",
       "      <td>5</td>\n",
       "      <td>27</td>\n",
       "      <td>32</td>\n",
       "    </tr>\n",
       "    <tr>\n",
       "      <th>3</th>\n",
       "      <td>4</td>\n",
       "      <td>2011-01-01</td>\n",
       "      <td>1</td>\n",
       "      <td>0</td>\n",
       "      <td>1</td>\n",
       "      <td>3</td>\n",
       "      <td>0</td>\n",
       "      <td>6</td>\n",
       "      <td>0</td>\n",
       "      <td>1</td>\n",
       "      <td>0.24</td>\n",
       "      <td>0.2879</td>\n",
       "      <td>0.75</td>\n",
       "      <td>0.0000</td>\n",
       "      <td>3</td>\n",
       "      <td>10</td>\n",
       "      <td>13</td>\n",
       "    </tr>\n",
       "    <tr>\n",
       "      <th>4</th>\n",
       "      <td>5</td>\n",
       "      <td>2011-01-01</td>\n",
       "      <td>1</td>\n",
       "      <td>0</td>\n",
       "      <td>1</td>\n",
       "      <td>4</td>\n",
       "      <td>0</td>\n",
       "      <td>6</td>\n",
       "      <td>0</td>\n",
       "      <td>1</td>\n",
       "      <td>0.24</td>\n",
       "      <td>0.2879</td>\n",
       "      <td>0.75</td>\n",
       "      <td>0.0000</td>\n",
       "      <td>0</td>\n",
       "      <td>1</td>\n",
       "      <td>1</td>\n",
       "    </tr>\n",
       "    <tr>\n",
       "      <th>5</th>\n",
       "      <td>6</td>\n",
       "      <td>2011-01-01</td>\n",
       "      <td>1</td>\n",
       "      <td>0</td>\n",
       "      <td>1</td>\n",
       "      <td>5</td>\n",
       "      <td>0</td>\n",
       "      <td>6</td>\n",
       "      <td>0</td>\n",
       "      <td>2</td>\n",
       "      <td>0.24</td>\n",
       "      <td>0.2576</td>\n",
       "      <td>0.75</td>\n",
       "      <td>0.0896</td>\n",
       "      <td>0</td>\n",
       "      <td>1</td>\n",
       "      <td>1</td>\n",
       "    </tr>\n",
       "    <tr>\n",
       "      <th>6</th>\n",
       "      <td>7</td>\n",
       "      <td>2011-01-01</td>\n",
       "      <td>1</td>\n",
       "      <td>0</td>\n",
       "      <td>1</td>\n",
       "      <td>6</td>\n",
       "      <td>0</td>\n",
       "      <td>6</td>\n",
       "      <td>0</td>\n",
       "      <td>1</td>\n",
       "      <td>0.22</td>\n",
       "      <td>0.2727</td>\n",
       "      <td>0.80</td>\n",
       "      <td>0.0000</td>\n",
       "      <td>2</td>\n",
       "      <td>0</td>\n",
       "      <td>2</td>\n",
       "    </tr>\n",
       "    <tr>\n",
       "      <th>7</th>\n",
       "      <td>8</td>\n",
       "      <td>2011-01-01</td>\n",
       "      <td>1</td>\n",
       "      <td>0</td>\n",
       "      <td>1</td>\n",
       "      <td>7</td>\n",
       "      <td>0</td>\n",
       "      <td>6</td>\n",
       "      <td>0</td>\n",
       "      <td>1</td>\n",
       "      <td>0.20</td>\n",
       "      <td>0.2576</td>\n",
       "      <td>0.86</td>\n",
       "      <td>0.0000</td>\n",
       "      <td>1</td>\n",
       "      <td>2</td>\n",
       "      <td>3</td>\n",
       "    </tr>\n",
       "    <tr>\n",
       "      <th>8</th>\n",
       "      <td>9</td>\n",
       "      <td>2011-01-01</td>\n",
       "      <td>1</td>\n",
       "      <td>0</td>\n",
       "      <td>1</td>\n",
       "      <td>8</td>\n",
       "      <td>0</td>\n",
       "      <td>6</td>\n",
       "      <td>0</td>\n",
       "      <td>1</td>\n",
       "      <td>0.24</td>\n",
       "      <td>0.2879</td>\n",
       "      <td>0.75</td>\n",
       "      <td>0.0000</td>\n",
       "      <td>1</td>\n",
       "      <td>7</td>\n",
       "      <td>8</td>\n",
       "    </tr>\n",
       "    <tr>\n",
       "      <th>9</th>\n",
       "      <td>10</td>\n",
       "      <td>2011-01-01</td>\n",
       "      <td>1</td>\n",
       "      <td>0</td>\n",
       "      <td>1</td>\n",
       "      <td>9</td>\n",
       "      <td>0</td>\n",
       "      <td>6</td>\n",
       "      <td>0</td>\n",
       "      <td>1</td>\n",
       "      <td>0.32</td>\n",
       "      <td>0.3485</td>\n",
       "      <td>0.76</td>\n",
       "      <td>0.0000</td>\n",
       "      <td>8</td>\n",
       "      <td>6</td>\n",
       "      <td>14</td>\n",
       "    </tr>\n",
       "  </tbody>\n",
       "</table>\n",
       "</div>"
      ],
      "text/plain": [
       "   instant      dteday  season  yr  mnth  hr  holiday  weekday  workingday  \\\n",
       "0        1  2011-01-01       1   0     1   0        0        6           0   \n",
       "1        2  2011-01-01       1   0     1   1        0        6           0   \n",
       "2        3  2011-01-01       1   0     1   2        0        6           0   \n",
       "3        4  2011-01-01       1   0     1   3        0        6           0   \n",
       "4        5  2011-01-01       1   0     1   4        0        6           0   \n",
       "5        6  2011-01-01       1   0     1   5        0        6           0   \n",
       "6        7  2011-01-01       1   0     1   6        0        6           0   \n",
       "7        8  2011-01-01       1   0     1   7        0        6           0   \n",
       "8        9  2011-01-01       1   0     1   8        0        6           0   \n",
       "9       10  2011-01-01       1   0     1   9        0        6           0   \n",
       "\n",
       "   weathersit  temp   atemp   hum  windspeed  casual  registered  cnt  \n",
       "0           1  0.24  0.2879  0.81     0.0000       3          13   16  \n",
       "1           1  0.22  0.2727  0.80     0.0000       8          32   40  \n",
       "2           1  0.22  0.2727  0.80     0.0000       5          27   32  \n",
       "3           1  0.24  0.2879  0.75     0.0000       3          10   13  \n",
       "4           1  0.24  0.2879  0.75     0.0000       0           1    1  \n",
       "5           2  0.24  0.2576  0.75     0.0896       0           1    1  \n",
       "6           1  0.22  0.2727  0.80     0.0000       2           0    2  \n",
       "7           1  0.20  0.2576  0.86     0.0000       1           2    3  \n",
       "8           1  0.24  0.2879  0.75     0.0000       1           7    8  \n",
       "9           1  0.32  0.3485  0.76     0.0000       8           6   14  "
      ]
     },
     "execution_count": 3,
     "metadata": {},
     "output_type": "execute_result"
    }
   ],
   "source": [
    "df_hour = pd.read_csv('data/hour.csv')\n",
    "df_hour.head(10)"
   ]
  },
  {
   "cell_type": "markdown",
   "id": "5ARBRDwgjnsL",
   "metadata": {
    "id": "5ARBRDwgjnsL"
   },
   "source": [
    "### Assessing Data"
   ]
  },
  {
   "cell_type": "markdown",
   "id": "0Z9H-Fn0jsWi",
   "metadata": {
    "id": "0Z9H-Fn0jsWi"
   },
   "source": [
    "1. Cek tipedata pada dataframe day"
   ]
  },
  {
   "cell_type": "code",
   "execution_count": 4,
   "id": "09e165e8-955c-4a68-aea9-42ed959da13d",
   "metadata": {
    "id": "09e165e8-955c-4a68-aea9-42ed959da13d",
    "outputId": "3f0a7672-d7a7-4c2d-c2c3-9dada0c93512"
   },
   "outputs": [
    {
     "name": "stdout",
     "output_type": "stream",
     "text": [
      "<class 'pandas.core.frame.DataFrame'>\n",
      "RangeIndex: 731 entries, 0 to 730\n",
      "Data columns (total 16 columns):\n",
      " #   Column      Non-Null Count  Dtype  \n",
      "---  ------      --------------  -----  \n",
      " 0   instant     731 non-null    int64  \n",
      " 1   dteday      731 non-null    object \n",
      " 2   season      731 non-null    int64  \n",
      " 3   yr          731 non-null    int64  \n",
      " 4   mnth        731 non-null    int64  \n",
      " 5   holiday     731 non-null    int64  \n",
      " 6   weekday     731 non-null    int64  \n",
      " 7   workingday  731 non-null    int64  \n",
      " 8   weathersit  731 non-null    int64  \n",
      " 9   temp        731 non-null    float64\n",
      " 10  atemp       731 non-null    float64\n",
      " 11  hum         731 non-null    float64\n",
      " 12  windspeed   731 non-null    float64\n",
      " 13  casual      731 non-null    int64  \n",
      " 14  registered  731 non-null    int64  \n",
      " 15  cnt         731 non-null    int64  \n",
      "dtypes: float64(4), int64(11), object(1)\n",
      "memory usage: 91.5+ KB\n"
     ]
    }
   ],
   "source": [
    "# Cek tipedata\n",
    "df_day.info()"
   ]
  },
  {
   "cell_type": "markdown",
   "id": "BHEPV6ZvsDHz",
   "metadata": {
    "id": "BHEPV6ZvsDHz"
   },
   "source": [
    "2. Cek apakah ada missing values pada dataframe day"
   ]
  },
  {
   "cell_type": "code",
   "execution_count": 5,
   "id": "9c7cff3c-9d43-467c-9b7e-ef8734257184",
   "metadata": {
    "id": "9c7cff3c-9d43-467c-9b7e-ef8734257184",
    "outputId": "b632e963-433d-439a-eb31-bcf6b7f008c3"
   },
   "outputs": [
    {
     "data": {
      "text/plain": [
       "instant       0\n",
       "dteday        0\n",
       "season        0\n",
       "yr            0\n",
       "mnth          0\n",
       "holiday       0\n",
       "weekday       0\n",
       "workingday    0\n",
       "weathersit    0\n",
       "temp          0\n",
       "atemp         0\n",
       "hum           0\n",
       "windspeed     0\n",
       "casual        0\n",
       "registered    0\n",
       "cnt           0\n",
       "dtype: int64"
      ]
     },
     "execution_count": 5,
     "metadata": {},
     "output_type": "execute_result"
    }
   ],
   "source": [
    "# Cek missing values\n",
    "df_day.isna().sum()"
   ]
  },
  {
   "cell_type": "markdown",
   "id": "NwJOG3jHsKG3",
   "metadata": {
    "id": "NwJOG3jHsKG3"
   },
   "source": [
    "3. Cek apakah ada duplikasi data pada dataframe day dan hour"
   ]
  },
  {
   "cell_type": "code",
   "execution_count": 6,
   "id": "a9b31b12-e031-4d57-8a91-f89d0d2166eb",
   "metadata": {
    "id": "a9b31b12-e031-4d57-8a91-f89d0d2166eb",
    "outputId": "a2edbecd-766d-46c6-c444-c2c869b9a17e"
   },
   "outputs": [
    {
     "name": "stdout",
     "output_type": "stream",
     "text": [
      "Data duplikat day:  0\n"
     ]
    }
   ],
   "source": [
    "# Cek Duplikasi Data day.csv\n",
    "print(\"Data duplikat day: \", df_day.duplicated().sum())"
   ]
  },
  {
   "cell_type": "code",
   "execution_count": 7,
   "id": "03295cc3-331b-4b57-a93a-ba94a4a3369d",
   "metadata": {
    "id": "03295cc3-331b-4b57-a93a-ba94a4a3369d",
    "outputId": "99da3259-d7dd-4975-8c21-e19d0eac8298"
   },
   "outputs": [
    {
     "name": "stdout",
     "output_type": "stream",
     "text": [
      "Data duplikat hour:  0\n"
     ]
    }
   ],
   "source": [
    "# Cek Duplikasi Data hour.csv\n",
    "print(\"Data duplikat hour: \", df_hour.duplicated().sum())"
   ]
  },
  {
   "cell_type": "markdown",
   "id": "q79jP7MnsUvs",
   "metadata": {
    "id": "q79jP7MnsUvs"
   },
   "source": [
    "4. Describe dataframe hour dan day untuk melihat apakah ada keanehan"
   ]
  },
  {
   "cell_type": "code",
   "execution_count": 8,
   "id": "60222a20-fb1a-43df-985b-d2ad3723cbf3",
   "metadata": {
    "id": "60222a20-fb1a-43df-985b-d2ad3723cbf3",
    "outputId": "3db960ba-dd6f-418a-8cd6-fb801d849b9f"
   },
   "outputs": [
    {
     "name": "stdout",
     "output_type": "stream",
     "text": [
      "Data describe day:           instant      season          yr        mnth     holiday     weekday  \\\n",
      "count  731.000000  731.000000  731.000000  731.000000  731.000000  731.000000   \n",
      "mean   366.000000    2.496580    0.500684    6.519836    0.028728    2.997264   \n",
      "std    211.165812    1.110807    0.500342    3.451913    0.167155    2.004787   \n",
      "min      1.000000    1.000000    0.000000    1.000000    0.000000    0.000000   \n",
      "25%    183.500000    2.000000    0.000000    4.000000    0.000000    1.000000   \n",
      "50%    366.000000    3.000000    1.000000    7.000000    0.000000    3.000000   \n",
      "75%    548.500000    3.000000    1.000000   10.000000    0.000000    5.000000   \n",
      "max    731.000000    4.000000    1.000000   12.000000    1.000000    6.000000   \n",
      "\n",
      "       workingday  weathersit        temp       atemp         hum   windspeed  \\\n",
      "count  731.000000  731.000000  731.000000  731.000000  731.000000  731.000000   \n",
      "mean     0.683995    1.395349    0.495385    0.474354    0.627894    0.190486   \n",
      "std      0.465233    0.544894    0.183051    0.162961    0.142429    0.077498   \n",
      "min      0.000000    1.000000    0.059130    0.079070    0.000000    0.022392   \n",
      "25%      0.000000    1.000000    0.337083    0.337842    0.520000    0.134950   \n",
      "50%      1.000000    1.000000    0.498333    0.486733    0.626667    0.180975   \n",
      "75%      1.000000    2.000000    0.655417    0.608602    0.730209    0.233214   \n",
      "max      1.000000    3.000000    0.861667    0.840896    0.972500    0.507463   \n",
      "\n",
      "            casual   registered          cnt  \n",
      "count   731.000000   731.000000   731.000000  \n",
      "mean    848.176471  3656.172367  4504.348837  \n",
      "std     686.622488  1560.256377  1937.211452  \n",
      "min       2.000000    20.000000    22.000000  \n",
      "25%     315.500000  2497.000000  3152.000000  \n",
      "50%     713.000000  3662.000000  4548.000000  \n",
      "75%    1096.000000  4776.500000  5956.000000  \n",
      "max    3410.000000  6946.000000  8714.000000  \n",
      "Data describe hour:           instant        season            yr          mnth            hr  \\\n",
      "count  17379.0000  17379.000000  17379.000000  17379.000000  17379.000000   \n",
      "mean    8690.0000      2.501640      0.502561      6.537775     11.546752   \n",
      "std     5017.0295      1.106918      0.500008      3.438776      6.914405   \n",
      "min        1.0000      1.000000      0.000000      1.000000      0.000000   \n",
      "25%     4345.5000      2.000000      0.000000      4.000000      6.000000   \n",
      "50%     8690.0000      3.000000      1.000000      7.000000     12.000000   \n",
      "75%    13034.5000      3.000000      1.000000     10.000000     18.000000   \n",
      "max    17379.0000      4.000000      1.000000     12.000000     23.000000   \n",
      "\n",
      "            holiday       weekday    workingday    weathersit          temp  \\\n",
      "count  17379.000000  17379.000000  17379.000000  17379.000000  17379.000000   \n",
      "mean       0.028770      3.003683      0.682721      1.425283      0.496987   \n",
      "std        0.167165      2.005771      0.465431      0.639357      0.192556   \n",
      "min        0.000000      0.000000      0.000000      1.000000      0.020000   \n",
      "25%        0.000000      1.000000      0.000000      1.000000      0.340000   \n",
      "50%        0.000000      3.000000      1.000000      1.000000      0.500000   \n",
      "75%        0.000000      5.000000      1.000000      2.000000      0.660000   \n",
      "max        1.000000      6.000000      1.000000      4.000000      1.000000   \n",
      "\n",
      "              atemp           hum     windspeed        casual    registered  \\\n",
      "count  17379.000000  17379.000000  17379.000000  17379.000000  17379.000000   \n",
      "mean       0.475775      0.627229      0.190098     35.676218    153.786869   \n",
      "std        0.171850      0.192930      0.122340     49.305030    151.357286   \n",
      "min        0.000000      0.000000      0.000000      0.000000      0.000000   \n",
      "25%        0.333300      0.480000      0.104500      4.000000     34.000000   \n",
      "50%        0.484800      0.630000      0.194000     17.000000    115.000000   \n",
      "75%        0.621200      0.780000      0.253700     48.000000    220.000000   \n",
      "max        1.000000      1.000000      0.850700    367.000000    886.000000   \n",
      "\n",
      "                cnt  \n",
      "count  17379.000000  \n",
      "mean     189.463088  \n",
      "std      181.387599  \n",
      "min        1.000000  \n",
      "25%       40.000000  \n",
      "50%      142.000000  \n",
      "75%      281.000000  \n",
      "max      977.000000  \n"
     ]
    }
   ],
   "source": [
    "# Describing Data in dataframes (cek keanehan data dalam dataframe)\n",
    "print(\"Data describe day:\", df_day.describe())\n",
    "print(\"Data describe hour:\", df_hour.describe())"
   ]
  },
  {
   "cell_type": "markdown",
   "id": "l_dGwZ8Xslx5",
   "metadata": {
    "id": "l_dGwZ8Xslx5"
   },
   "source": [
    "Kita simpulkan berdasarkan data diatas berarti bahwa datanya aman dan tidak ada keanehan"
   ]
  },
  {
   "cell_type": "markdown",
   "id": "9QXtDHMh1tUs",
   "metadata": {
    "id": "9QXtDHMh1tUs"
   },
   "source": [
    "### Cleaning Data"
   ]
  },
  {
   "cell_type": "markdown",
   "id": "1LjfLyBw1vx7",
   "metadata": {
    "id": "1LjfLyBw1vx7"
   },
   "source": [
    "**Menghapus beberapa elemen yang tidak diperlukan dalam proses analisis**"
   ]
  },
  {
   "cell_type": "markdown",
   "id": "2klEZAE42EEy",
   "metadata": {
    "id": "2klEZAE42EEy"
   },
   "source": [
    "- Menghapus dataframe hour karena pada proses analisis kita saat ini tidak akan menggunakan elemen ini"
   ]
  },
  {
   "cell_type": "code",
   "execution_count": 9,
   "id": "dce9d3af-b030-4804-8724-a695ccbfb870",
   "metadata": {
    "id": "dce9d3af-b030-4804-8724-a695ccbfb870"
   },
   "outputs": [],
   "source": [
    "# Cleaning Data\n",
    "# Mengahpus tabel dataframe hour karena tidak gunakan pada proyek analisis kita\n",
    "del df_hour"
   ]
  },
  {
   "cell_type": "markdown",
   "id": "eBlxkOk12MD7",
   "metadata": {
    "id": "eBlxkOk12MD7"
   },
   "source": [
    "- Menghapus beberapa kolom di dataframe day yang tidak digunakan"
   ]
  },
  {
   "cell_type": "code",
   "execution_count": 10,
   "id": "0bd7bfdc-f9f4-4746-9b7d-100927d2041d",
   "metadata": {
    "id": "0bd7bfdc-f9f4-4746-9b7d-100927d2041d",
    "outputId": "a77bef54-fcb0-4773-a3a6-6748d38d4449"
   },
   "outputs": [
    {
     "data": {
      "text/html": [
       "<div>\n",
       "<style scoped>\n",
       "    .dataframe tbody tr th:only-of-type {\n",
       "        vertical-align: middle;\n",
       "    }\n",
       "\n",
       "    .dataframe tbody tr th {\n",
       "        vertical-align: top;\n",
       "    }\n",
       "\n",
       "    .dataframe thead th {\n",
       "        text-align: right;\n",
       "    }\n",
       "</style>\n",
       "<table border=\"1\" class=\"dataframe\">\n",
       "  <thead>\n",
       "    <tr style=\"text-align: right;\">\n",
       "      <th></th>\n",
       "      <th>dteday</th>\n",
       "      <th>season</th>\n",
       "      <th>yr</th>\n",
       "      <th>mnth</th>\n",
       "      <th>holiday</th>\n",
       "      <th>weekday</th>\n",
       "      <th>workingday</th>\n",
       "      <th>weathersit</th>\n",
       "      <th>temp</th>\n",
       "      <th>atemp</th>\n",
       "      <th>hum</th>\n",
       "      <th>casual</th>\n",
       "      <th>registered</th>\n",
       "      <th>cnt</th>\n",
       "    </tr>\n",
       "  </thead>\n",
       "  <tbody>\n",
       "    <tr>\n",
       "      <th>0</th>\n",
       "      <td>2011-01-01</td>\n",
       "      <td>1</td>\n",
       "      <td>0</td>\n",
       "      <td>1</td>\n",
       "      <td>0</td>\n",
       "      <td>6</td>\n",
       "      <td>0</td>\n",
       "      <td>2</td>\n",
       "      <td>0.344167</td>\n",
       "      <td>0.363625</td>\n",
       "      <td>0.805833</td>\n",
       "      <td>331</td>\n",
       "      <td>654</td>\n",
       "      <td>985</td>\n",
       "    </tr>\n",
       "    <tr>\n",
       "      <th>1</th>\n",
       "      <td>2011-01-02</td>\n",
       "      <td>1</td>\n",
       "      <td>0</td>\n",
       "      <td>1</td>\n",
       "      <td>0</td>\n",
       "      <td>0</td>\n",
       "      <td>0</td>\n",
       "      <td>2</td>\n",
       "      <td>0.363478</td>\n",
       "      <td>0.353739</td>\n",
       "      <td>0.696087</td>\n",
       "      <td>131</td>\n",
       "      <td>670</td>\n",
       "      <td>801</td>\n",
       "    </tr>\n",
       "    <tr>\n",
       "      <th>2</th>\n",
       "      <td>2011-01-03</td>\n",
       "      <td>1</td>\n",
       "      <td>0</td>\n",
       "      <td>1</td>\n",
       "      <td>0</td>\n",
       "      <td>1</td>\n",
       "      <td>1</td>\n",
       "      <td>1</td>\n",
       "      <td>0.196364</td>\n",
       "      <td>0.189405</td>\n",
       "      <td>0.437273</td>\n",
       "      <td>120</td>\n",
       "      <td>1229</td>\n",
       "      <td>1349</td>\n",
       "    </tr>\n",
       "    <tr>\n",
       "      <th>3</th>\n",
       "      <td>2011-01-04</td>\n",
       "      <td>1</td>\n",
       "      <td>0</td>\n",
       "      <td>1</td>\n",
       "      <td>0</td>\n",
       "      <td>2</td>\n",
       "      <td>1</td>\n",
       "      <td>1</td>\n",
       "      <td>0.200000</td>\n",
       "      <td>0.212122</td>\n",
       "      <td>0.590435</td>\n",
       "      <td>108</td>\n",
       "      <td>1454</td>\n",
       "      <td>1562</td>\n",
       "    </tr>\n",
       "    <tr>\n",
       "      <th>4</th>\n",
       "      <td>2011-01-05</td>\n",
       "      <td>1</td>\n",
       "      <td>0</td>\n",
       "      <td>1</td>\n",
       "      <td>0</td>\n",
       "      <td>3</td>\n",
       "      <td>1</td>\n",
       "      <td>1</td>\n",
       "      <td>0.226957</td>\n",
       "      <td>0.229270</td>\n",
       "      <td>0.436957</td>\n",
       "      <td>82</td>\n",
       "      <td>1518</td>\n",
       "      <td>1600</td>\n",
       "    </tr>\n",
       "  </tbody>\n",
       "</table>\n",
       "</div>"
      ],
      "text/plain": [
       "       dteday  season  yr  mnth  holiday  weekday  workingday  weathersit  \\\n",
       "0  2011-01-01       1   0     1        0        6           0           2   \n",
       "1  2011-01-02       1   0     1        0        0           0           2   \n",
       "2  2011-01-03       1   0     1        0        1           1           1   \n",
       "3  2011-01-04       1   0     1        0        2           1           1   \n",
       "4  2011-01-05       1   0     1        0        3           1           1   \n",
       "\n",
       "       temp     atemp       hum  casual  registered   cnt  \n",
       "0  0.344167  0.363625  0.805833     331         654   985  \n",
       "1  0.363478  0.353739  0.696087     131         670   801  \n",
       "2  0.196364  0.189405  0.437273     120        1229  1349  \n",
       "3  0.200000  0.212122  0.590435     108        1454  1562  \n",
       "4  0.226957  0.229270  0.436957      82        1518  1600  "
      ]
     },
     "execution_count": 10,
     "metadata": {},
     "output_type": "execute_result"
    }
   ],
   "source": [
    "# Hapus beberapa kolom yang tidak digunakan\n",
    "df_day.drop(columns=['instant', 'windspeed'],errors= 'ignore', inplace=True)\n",
    "df_day.head()"
   ]
  },
  {
   "cell_type": "markdown",
   "id": "G9PerUU62TCx",
   "metadata": {
    "id": "G9PerUU62TCx"
   },
   "source": [
    "Disini kita menghapus atribut instant dan windspeed dalam dataframe day karena tidak dibutuhkan pada proses analisis kami"
   ]
  },
  {
   "cell_type": "markdown",
   "id": "vbEtjYch2cb2",
   "metadata": {
    "id": "vbEtjYch2cb2"
   },
   "source": [
    "- Mengubah beberapa nama atribut dalam dataframe day"
   ]
  },
  {
   "cell_type": "code",
   "execution_count": 11,
   "id": "18aebdc7-177c-4def-91a7-4817dfb115ac",
   "metadata": {
    "id": "18aebdc7-177c-4def-91a7-4817dfb115ac",
    "outputId": "8ae326ed-c159-4b10-8dbb-558a8e486d09"
   },
   "outputs": [
    {
     "data": {
      "text/html": [
       "<div>\n",
       "<style scoped>\n",
       "    .dataframe tbody tr th:only-of-type {\n",
       "        vertical-align: middle;\n",
       "    }\n",
       "\n",
       "    .dataframe tbody tr th {\n",
       "        vertical-align: top;\n",
       "    }\n",
       "\n",
       "    .dataframe thead th {\n",
       "        text-align: right;\n",
       "    }\n",
       "</style>\n",
       "<table border=\"1\" class=\"dataframe\">\n",
       "  <thead>\n",
       "    <tr style=\"text-align: right;\">\n",
       "      <th></th>\n",
       "      <th>dateday</th>\n",
       "      <th>season</th>\n",
       "      <th>year</th>\n",
       "      <th>month</th>\n",
       "      <th>holiday</th>\n",
       "      <th>weekday</th>\n",
       "      <th>workingday</th>\n",
       "      <th>weather_condition</th>\n",
       "      <th>temp</th>\n",
       "      <th>atemp</th>\n",
       "      <th>hum</th>\n",
       "      <th>casual</th>\n",
       "      <th>registered</th>\n",
       "      <th>count</th>\n",
       "    </tr>\n",
       "  </thead>\n",
       "  <tbody>\n",
       "    <tr>\n",
       "      <th>0</th>\n",
       "      <td>2011-01-01</td>\n",
       "      <td>1</td>\n",
       "      <td>0</td>\n",
       "      <td>1</td>\n",
       "      <td>0</td>\n",
       "      <td>6</td>\n",
       "      <td>0</td>\n",
       "      <td>2</td>\n",
       "      <td>0.344167</td>\n",
       "      <td>0.363625</td>\n",
       "      <td>0.805833</td>\n",
       "      <td>331</td>\n",
       "      <td>654</td>\n",
       "      <td>985</td>\n",
       "    </tr>\n",
       "    <tr>\n",
       "      <th>1</th>\n",
       "      <td>2011-01-02</td>\n",
       "      <td>1</td>\n",
       "      <td>0</td>\n",
       "      <td>1</td>\n",
       "      <td>0</td>\n",
       "      <td>0</td>\n",
       "      <td>0</td>\n",
       "      <td>2</td>\n",
       "      <td>0.363478</td>\n",
       "      <td>0.353739</td>\n",
       "      <td>0.696087</td>\n",
       "      <td>131</td>\n",
       "      <td>670</td>\n",
       "      <td>801</td>\n",
       "    </tr>\n",
       "    <tr>\n",
       "      <th>2</th>\n",
       "      <td>2011-01-03</td>\n",
       "      <td>1</td>\n",
       "      <td>0</td>\n",
       "      <td>1</td>\n",
       "      <td>0</td>\n",
       "      <td>1</td>\n",
       "      <td>1</td>\n",
       "      <td>1</td>\n",
       "      <td>0.196364</td>\n",
       "      <td>0.189405</td>\n",
       "      <td>0.437273</td>\n",
       "      <td>120</td>\n",
       "      <td>1229</td>\n",
       "      <td>1349</td>\n",
       "    </tr>\n",
       "    <tr>\n",
       "      <th>3</th>\n",
       "      <td>2011-01-04</td>\n",
       "      <td>1</td>\n",
       "      <td>0</td>\n",
       "      <td>1</td>\n",
       "      <td>0</td>\n",
       "      <td>2</td>\n",
       "      <td>1</td>\n",
       "      <td>1</td>\n",
       "      <td>0.200000</td>\n",
       "      <td>0.212122</td>\n",
       "      <td>0.590435</td>\n",
       "      <td>108</td>\n",
       "      <td>1454</td>\n",
       "      <td>1562</td>\n",
       "    </tr>\n",
       "    <tr>\n",
       "      <th>4</th>\n",
       "      <td>2011-01-05</td>\n",
       "      <td>1</td>\n",
       "      <td>0</td>\n",
       "      <td>1</td>\n",
       "      <td>0</td>\n",
       "      <td>3</td>\n",
       "      <td>1</td>\n",
       "      <td>1</td>\n",
       "      <td>0.226957</td>\n",
       "      <td>0.229270</td>\n",
       "      <td>0.436957</td>\n",
       "      <td>82</td>\n",
       "      <td>1518</td>\n",
       "      <td>1600</td>\n",
       "    </tr>\n",
       "  </tbody>\n",
       "</table>\n",
       "</div>"
      ],
      "text/plain": [
       "      dateday  season  year  month  holiday  weekday  workingday  \\\n",
       "0  2011-01-01       1     0      1        0        6           0   \n",
       "1  2011-01-02       1     0      1        0        0           0   \n",
       "2  2011-01-03       1     0      1        0        1           1   \n",
       "3  2011-01-04       1     0      1        0        2           1   \n",
       "4  2011-01-05       1     0      1        0        3           1   \n",
       "\n",
       "   weather_condition      temp     atemp       hum  casual  registered  count  \n",
       "0                  2  0.344167  0.363625  0.805833     331         654    985  \n",
       "1                  2  0.363478  0.353739  0.696087     131         670    801  \n",
       "2                  1  0.196364  0.189405  0.437273     120        1229   1349  \n",
       "3                  1  0.200000  0.212122  0.590435     108        1454   1562  \n",
       "4                  1  0.226957  0.229270  0.436957      82        1518   1600  "
      ]
     },
     "execution_count": 11,
     "metadata": {},
     "output_type": "execute_result"
    }
   ],
   "source": [
    "# Ubah beberapa atribut dalam dataframe\n",
    "df_day.rename(columns={\n",
    "    'dteday': 'dateday',\n",
    "    'yr': 'year',\n",
    "    'mnth': 'month',\n",
    "    'weathersit': 'weather_condition',\n",
    "    'cnt': 'count'\n",
    "}, inplace=True)\n",
    "\n",
    "df_day.head()"
   ]
  },
  {
   "cell_type": "markdown",
   "id": "Sdw6femv2i8Y",
   "metadata": {
    "id": "Sdw6femv2i8Y"
   },
   "source": [
    "Mengubah nama atribut\n",
    "dteday menjadi dateday,\n",
    "yr menjadi year,\n",
    "mnth menjadi month,\n",
    "weathersit menjadi weather_condition,\n",
    "cnt menjadi count\n"
   ]
  },
  {
   "cell_type": "markdown",
   "id": "5Mnn6Vy-3PZM",
   "metadata": {
    "id": "5Mnn6Vy-3PZM"
   },
   "source": [
    "- Merepresentasikan angka sebagai value teks (Mapping data)"
   ]
  },
  {
   "cell_type": "code",
   "execution_count": 12,
   "id": "cd467c68-d912-4c44-9e08-9e691ad6e3b2",
   "metadata": {
    "id": "cd467c68-d912-4c44-9e08-9e691ad6e3b2"
   },
   "outputs": [],
   "source": [
    "# Data Mapping untuk atribut bernilai number kedalam teks\n",
    "# Dictionary mapping for multiple columns\n",
    "mapping_data = {\n",
    "    'month': {\n",
    "        1: 'Jan', 2: 'Feb', 3: 'Mar', 4: 'Apr', 5: 'May', 6: 'Jun',\n",
    "        7: 'Jul', 8: 'Aug', 9: 'Sep', 10: 'Oct', 11: 'Nov', 12: 'Dec'\n",
    "    },\n",
    "    'season': {\n",
    "        1: 'Spring', 2: 'Summer', 3: 'Fall', 4: 'Winter'\n",
    "    },\n",
    "    'weekday': {\n",
    "        0: 'Sun', 1: 'Mon', 2: 'Tue', 3: 'Wed', 4: 'Thu', 5: 'Fri', 6: 'Sat'\n",
    "    },\n",
    "    'weather_condition': {\n",
    "        1: 'Sunny',\n",
    "        2: 'Cloudy',\n",
    "        3: 'Rainy',\n",
    "        4: 'Windy'\n",
    "    }\n",
    "}\n",
    "\n",
    "# Apply the mapping to the respective columns\n",
    "for col, data in mapping_data.items():\n",
    "    df_day[col] = df_day[col].map(data)\n",
    "\n"
   ]
  },
  {
   "cell_type": "markdown",
   "id": "SIVyE_rB3al3",
   "metadata": {
    "id": "SIVyE_rB3al3"
   },
   "source": [
    "- Mengubah tipe data pada dateday menjadi datetime\n",
    "- Mengubah tipe data pada dataframe day menjadi categorical"
   ]
  },
  {
   "cell_type": "code",
   "execution_count": 13,
   "id": "a1da7fc0-62f4-44a2-860a-6f41cf9318bc",
   "metadata": {
    "id": "a1da7fc0-62f4-44a2-860a-6f41cf9318bc",
    "outputId": "9936b975-6851-4837-f452-3d5a033f948b"
   },
   "outputs": [
    {
     "data": {
      "text/html": [
       "<div>\n",
       "<style scoped>\n",
       "    .dataframe tbody tr th:only-of-type {\n",
       "        vertical-align: middle;\n",
       "    }\n",
       "\n",
       "    .dataframe tbody tr th {\n",
       "        vertical-align: top;\n",
       "    }\n",
       "\n",
       "    .dataframe thead th {\n",
       "        text-align: right;\n",
       "    }\n",
       "</style>\n",
       "<table border=\"1\" class=\"dataframe\">\n",
       "  <thead>\n",
       "    <tr style=\"text-align: right;\">\n",
       "      <th></th>\n",
       "      <th>dateday</th>\n",
       "      <th>season</th>\n",
       "      <th>year</th>\n",
       "      <th>month</th>\n",
       "      <th>holiday</th>\n",
       "      <th>weekday</th>\n",
       "      <th>workingday</th>\n",
       "      <th>weather_condition</th>\n",
       "      <th>temp</th>\n",
       "      <th>atemp</th>\n",
       "      <th>hum</th>\n",
       "      <th>casual</th>\n",
       "      <th>registered</th>\n",
       "      <th>count</th>\n",
       "    </tr>\n",
       "  </thead>\n",
       "  <tbody>\n",
       "    <tr>\n",
       "      <th>0</th>\n",
       "      <td>2011-01-01</td>\n",
       "      <td>Spring</td>\n",
       "      <td>0</td>\n",
       "      <td>Jan</td>\n",
       "      <td>0</td>\n",
       "      <td>Sat</td>\n",
       "      <td>0</td>\n",
       "      <td>Cloudy</td>\n",
       "      <td>0.344167</td>\n",
       "      <td>0.363625</td>\n",
       "      <td>0.805833</td>\n",
       "      <td>331</td>\n",
       "      <td>654</td>\n",
       "      <td>985</td>\n",
       "    </tr>\n",
       "    <tr>\n",
       "      <th>1</th>\n",
       "      <td>2011-01-02</td>\n",
       "      <td>Spring</td>\n",
       "      <td>0</td>\n",
       "      <td>Jan</td>\n",
       "      <td>0</td>\n",
       "      <td>Sun</td>\n",
       "      <td>0</td>\n",
       "      <td>Cloudy</td>\n",
       "      <td>0.363478</td>\n",
       "      <td>0.353739</td>\n",
       "      <td>0.696087</td>\n",
       "      <td>131</td>\n",
       "      <td>670</td>\n",
       "      <td>801</td>\n",
       "    </tr>\n",
       "    <tr>\n",
       "      <th>2</th>\n",
       "      <td>2011-01-03</td>\n",
       "      <td>Spring</td>\n",
       "      <td>0</td>\n",
       "      <td>Jan</td>\n",
       "      <td>0</td>\n",
       "      <td>Mon</td>\n",
       "      <td>1</td>\n",
       "      <td>Sunny</td>\n",
       "      <td>0.196364</td>\n",
       "      <td>0.189405</td>\n",
       "      <td>0.437273</td>\n",
       "      <td>120</td>\n",
       "      <td>1229</td>\n",
       "      <td>1349</td>\n",
       "    </tr>\n",
       "    <tr>\n",
       "      <th>3</th>\n",
       "      <td>2011-01-04</td>\n",
       "      <td>Spring</td>\n",
       "      <td>0</td>\n",
       "      <td>Jan</td>\n",
       "      <td>0</td>\n",
       "      <td>Tue</td>\n",
       "      <td>1</td>\n",
       "      <td>Sunny</td>\n",
       "      <td>0.200000</td>\n",
       "      <td>0.212122</td>\n",
       "      <td>0.590435</td>\n",
       "      <td>108</td>\n",
       "      <td>1454</td>\n",
       "      <td>1562</td>\n",
       "    </tr>\n",
       "    <tr>\n",
       "      <th>4</th>\n",
       "      <td>2011-01-05</td>\n",
       "      <td>Spring</td>\n",
       "      <td>0</td>\n",
       "      <td>Jan</td>\n",
       "      <td>0</td>\n",
       "      <td>Wed</td>\n",
       "      <td>1</td>\n",
       "      <td>Sunny</td>\n",
       "      <td>0.226957</td>\n",
       "      <td>0.229270</td>\n",
       "      <td>0.436957</td>\n",
       "      <td>82</td>\n",
       "      <td>1518</td>\n",
       "      <td>1600</td>\n",
       "    </tr>\n",
       "  </tbody>\n",
       "</table>\n",
       "</div>"
      ],
      "text/plain": [
       "     dateday  season year month holiday weekday workingday weather_condition  \\\n",
       "0 2011-01-01  Spring    0   Jan       0     Sat          0            Cloudy   \n",
       "1 2011-01-02  Spring    0   Jan       0     Sun          0            Cloudy   \n",
       "2 2011-01-03  Spring    0   Jan       0     Mon          1             Sunny   \n",
       "3 2011-01-04  Spring    0   Jan       0     Tue          1             Sunny   \n",
       "4 2011-01-05  Spring    0   Jan       0     Wed          1             Sunny   \n",
       "\n",
       "       temp     atemp       hum  casual  registered  count  \n",
       "0  0.344167  0.363625  0.805833     331         654    985  \n",
       "1  0.363478  0.353739  0.696087     131         670    801  \n",
       "2  0.196364  0.189405  0.437273     120        1229   1349  \n",
       "3  0.200000  0.212122  0.590435     108        1454   1562  \n",
       "4  0.226957  0.229270  0.436957      82        1518   1600  "
      ]
     },
     "execution_count": 13,
     "metadata": {},
     "output_type": "execute_result"
    }
   ],
   "source": [
    "# Ubah tipe data dateday menjadi datetime\n",
    "df_day['dateday'] = pd.to_datetime(df_day.dateday)\n",
    "\n",
    "# Mengubah tipe data bebearapa atribut ke categorical\n",
    "df_day['season'] = df_day.season.astype('category')\n",
    "df_day['year'] = df_day.year.astype('category')\n",
    "df_day['month'] = df_day.month.astype('category')\n",
    "df_day['holiday'] = df_day.holiday.astype('category')\n",
    "df_day['weekday'] = df_day.weekday.astype('category')\n",
    "df_day['workingday'] = df_day.workingday.astype('category')\n",
    "df_day['weather_condition'] = df_day.weather_condition.astype('category')\n",
    "\n",
    "df_day.head()\n"
   ]
  },
  {
   "cell_type": "code",
   "execution_count": 14,
   "id": "742c48b3-2ac0-4ba1-84e2-ee1377038846",
   "metadata": {
    "id": "742c48b3-2ac0-4ba1-84e2-ee1377038846",
    "outputId": "9409cbc1-53a0-4b3c-ecb0-7f5e51c34315"
   },
   "outputs": [
    {
     "name": "stdout",
     "output_type": "stream",
     "text": [
      "<class 'pandas.core.frame.DataFrame'>\n",
      "RangeIndex: 731 entries, 0 to 730\n",
      "Data columns (total 14 columns):\n",
      " #   Column             Non-Null Count  Dtype         \n",
      "---  ------             --------------  -----         \n",
      " 0   dateday            731 non-null    datetime64[ns]\n",
      " 1   season             731 non-null    category      \n",
      " 2   year               731 non-null    category      \n",
      " 3   month              731 non-null    category      \n",
      " 4   holiday            731 non-null    category      \n",
      " 5   weekday            731 non-null    category      \n",
      " 6   workingday         731 non-null    category      \n",
      " 7   weather_condition  731 non-null    category      \n",
      " 8   temp               731 non-null    float64       \n",
      " 9   atemp              731 non-null    float64       \n",
      " 10  hum                731 non-null    float64       \n",
      " 11  casual             731 non-null    int64         \n",
      " 12  registered         731 non-null    int64         \n",
      " 13  count              731 non-null    int64         \n",
      "dtypes: category(7), datetime64[ns](1), float64(3), int64(3)\n",
      "memory usage: 46.5 KB\n"
     ]
    }
   ],
   "source": [
    "# Show datatypes\n",
    "df_day.info()"
   ]
  },
  {
   "cell_type": "markdown",
   "id": "L9suXbzo3rEJ",
   "metadata": {
    "id": "L9suXbzo3rEJ"
   },
   "source": [
    "## Exploratory Data Analysis (EDA)"
   ]
  },
  {
   "cell_type": "markdown",
   "id": "AY8q2bv-3un4",
   "metadata": {
    "id": "AY8q2bv-3un4"
   },
   "source": [
    "### Explore ..."
   ]
  },
  {
   "cell_type": "markdown",
   "id": "JyMznTx737Ek",
   "metadata": {
    "id": "JyMznTx737Ek"
   },
   "source": [
    "- Grouping penyewa sepeda kategori casual dan registered berdasarkan atribut bulan"
   ]
  },
  {
   "cell_type": "code",
   "execution_count": 15,
   "id": "5d76d3bb-de6b-4a2f-90c0-6906b9fca2a2",
   "metadata": {
    "id": "5d76d3bb-de6b-4a2f-90c0-6906b9fca2a2",
    "outputId": "cca8a3c4-3d40-4207-bb89-88201ca1c616"
   },
   "outputs": [
    {
     "data": {
      "text/html": [
       "<div>\n",
       "<style scoped>\n",
       "    .dataframe tbody tr th:only-of-type {\n",
       "        vertical-align: middle;\n",
       "    }\n",
       "\n",
       "    .dataframe tbody tr th {\n",
       "        vertical-align: top;\n",
       "    }\n",
       "\n",
       "    .dataframe thead tr th {\n",
       "        text-align: left;\n",
       "    }\n",
       "\n",
       "    .dataframe thead tr:last-of-type th {\n",
       "        text-align: right;\n",
       "    }\n",
       "</style>\n",
       "<table border=\"1\" class=\"dataframe\">\n",
       "  <thead>\n",
       "    <tr>\n",
       "      <th></th>\n",
       "      <th colspan=\"4\" halign=\"left\">count</th>\n",
       "    </tr>\n",
       "    <tr>\n",
       "      <th></th>\n",
       "      <th>max</th>\n",
       "      <th>min</th>\n",
       "      <th>mean</th>\n",
       "      <th>sum</th>\n",
       "    </tr>\n",
       "    <tr>\n",
       "      <th>month</th>\n",
       "      <th></th>\n",
       "      <th></th>\n",
       "      <th></th>\n",
       "      <th></th>\n",
       "    </tr>\n",
       "  </thead>\n",
       "  <tbody>\n",
       "    <tr>\n",
       "      <th>Apr</th>\n",
       "      <td>7460</td>\n",
       "      <td>795</td>\n",
       "      <td>4484.900000</td>\n",
       "      <td>269094</td>\n",
       "    </tr>\n",
       "    <tr>\n",
       "      <th>Aug</th>\n",
       "      <td>7865</td>\n",
       "      <td>1115</td>\n",
       "      <td>5664.419355</td>\n",
       "      <td>351194</td>\n",
       "    </tr>\n",
       "    <tr>\n",
       "      <th>Dec</th>\n",
       "      <td>6606</td>\n",
       "      <td>441</td>\n",
       "      <td>3403.806452</td>\n",
       "      <td>211036</td>\n",
       "    </tr>\n",
       "    <tr>\n",
       "      <th>Feb</th>\n",
       "      <td>5062</td>\n",
       "      <td>1005</td>\n",
       "      <td>2655.298246</td>\n",
       "      <td>151352</td>\n",
       "    </tr>\n",
       "    <tr>\n",
       "      <th>Jan</th>\n",
       "      <td>4521</td>\n",
       "      <td>431</td>\n",
       "      <td>2176.338710</td>\n",
       "      <td>134933</td>\n",
       "    </tr>\n",
       "    <tr>\n",
       "      <th>Jul</th>\n",
       "      <td>8173</td>\n",
       "      <td>3285</td>\n",
       "      <td>5563.677419</td>\n",
       "      <td>344948</td>\n",
       "    </tr>\n",
       "    <tr>\n",
       "      <th>Jun</th>\n",
       "      <td>8120</td>\n",
       "      <td>3767</td>\n",
       "      <td>5772.366667</td>\n",
       "      <td>346342</td>\n",
       "    </tr>\n",
       "    <tr>\n",
       "      <th>Mar</th>\n",
       "      <td>8362</td>\n",
       "      <td>605</td>\n",
       "      <td>3692.258065</td>\n",
       "      <td>228920</td>\n",
       "    </tr>\n",
       "    <tr>\n",
       "      <th>May</th>\n",
       "      <td>8294</td>\n",
       "      <td>2633</td>\n",
       "      <td>5349.774194</td>\n",
       "      <td>331686</td>\n",
       "    </tr>\n",
       "    <tr>\n",
       "      <th>Nov</th>\n",
       "      <td>6852</td>\n",
       "      <td>1495</td>\n",
       "      <td>4247.183333</td>\n",
       "      <td>254831</td>\n",
       "    </tr>\n",
       "    <tr>\n",
       "      <th>Oct</th>\n",
       "      <td>8156</td>\n",
       "      <td>22</td>\n",
       "      <td>5199.225806</td>\n",
       "      <td>322352</td>\n",
       "    </tr>\n",
       "    <tr>\n",
       "      <th>Sep</th>\n",
       "      <td>8714</td>\n",
       "      <td>1842</td>\n",
       "      <td>5766.516667</td>\n",
       "      <td>345991</td>\n",
       "    </tr>\n",
       "  </tbody>\n",
       "</table>\n",
       "</div>"
      ],
      "text/plain": [
       "      count                           \n",
       "        max   min         mean     sum\n",
       "month                                 \n",
       "Apr    7460   795  4484.900000  269094\n",
       "Aug    7865  1115  5664.419355  351194\n",
       "Dec    6606   441  3403.806452  211036\n",
       "Feb    5062  1005  2655.298246  151352\n",
       "Jan    4521   431  2176.338710  134933\n",
       "Jul    8173  3285  5563.677419  344948\n",
       "Jun    8120  3767  5772.366667  346342\n",
       "Mar    8362   605  3692.258065  228920\n",
       "May    8294  2633  5349.774194  331686\n",
       "Nov    6852  1495  4247.183333  254831\n",
       "Oct    8156    22  5199.225806  322352\n",
       "Sep    8714  1842  5766.516667  345991"
      ]
     },
     "execution_count": 15,
     "metadata": {},
     "output_type": "execute_result"
    }
   ],
   "source": [
    "# Exploratory Data Analysis\n",
    "\n",
    "# data day exploration (Pengelompokan data)\n",
    "# Grouping penyewa sepeda kategori casual dan registered berdasarkan atribut bulan\n",
    "\n",
    "df_day.groupby(by='month', observed=False).agg({\n",
    "    'count': ['max', 'min', 'mean', 'sum']\n",
    "})"
   ]
  },
  {
   "cell_type": "markdown",
   "id": "fQUGNwtw4EMN",
   "metadata": {
    "id": "fQUGNwtw4EMN"
   },
   "source": [
    "- Grouping penyewa sepeda berdasarkan atribut cuaca"
   ]
  },
  {
   "cell_type": "code",
   "execution_count": 16,
   "id": "4ff61db3-2f2e-40a4-b16f-ca6f3a87646b",
   "metadata": {
    "id": "4ff61db3-2f2e-40a4-b16f-ca6f3a87646b",
    "outputId": "93bf65cd-4537-44f8-c41a-e4cfba41e74d"
   },
   "outputs": [
    {
     "data": {
      "text/html": [
       "<div>\n",
       "<style scoped>\n",
       "    .dataframe tbody tr th:only-of-type {\n",
       "        vertical-align: middle;\n",
       "    }\n",
       "\n",
       "    .dataframe tbody tr th {\n",
       "        vertical-align: top;\n",
       "    }\n",
       "\n",
       "    .dataframe thead tr th {\n",
       "        text-align: left;\n",
       "    }\n",
       "\n",
       "    .dataframe thead tr:last-of-type th {\n",
       "        text-align: right;\n",
       "    }\n",
       "</style>\n",
       "<table border=\"1\" class=\"dataframe\">\n",
       "  <thead>\n",
       "    <tr>\n",
       "      <th></th>\n",
       "      <th colspan=\"4\" halign=\"left\">count</th>\n",
       "    </tr>\n",
       "    <tr>\n",
       "      <th></th>\n",
       "      <th>max</th>\n",
       "      <th>min</th>\n",
       "      <th>mean</th>\n",
       "      <th>sum</th>\n",
       "    </tr>\n",
       "    <tr>\n",
       "      <th>weather_condition</th>\n",
       "      <th></th>\n",
       "      <th></th>\n",
       "      <th></th>\n",
       "      <th></th>\n",
       "    </tr>\n",
       "  </thead>\n",
       "  <tbody>\n",
       "    <tr>\n",
       "      <th>Cloudy</th>\n",
       "      <td>8362</td>\n",
       "      <td>605</td>\n",
       "      <td>4035.862348</td>\n",
       "      <td>996858</td>\n",
       "    </tr>\n",
       "    <tr>\n",
       "      <th>Rainy</th>\n",
       "      <td>4639</td>\n",
       "      <td>22</td>\n",
       "      <td>1803.285714</td>\n",
       "      <td>37869</td>\n",
       "    </tr>\n",
       "    <tr>\n",
       "      <th>Sunny</th>\n",
       "      <td>8714</td>\n",
       "      <td>431</td>\n",
       "      <td>4876.786177</td>\n",
       "      <td>2257952</td>\n",
       "    </tr>\n",
       "  </tbody>\n",
       "</table>\n",
       "</div>"
      ],
      "text/plain": [
       "                  count                           \n",
       "                    max  min         mean      sum\n",
       "weather_condition                                 \n",
       "Cloudy             8362  605  4035.862348   996858\n",
       "Rainy              4639   22  1803.285714    37869\n",
       "Sunny              8714  431  4876.786177  2257952"
      ]
     },
     "execution_count": 16,
     "metadata": {},
     "output_type": "execute_result"
    }
   ],
   "source": [
    "# Grouping penyewa sepeda berdasarkan atribut cuaca\n",
    "df_day.groupby(by='weather_condition', observed=False).agg({\n",
    "    'count': ['max', 'min', 'mean', 'sum']\n",
    "})"
   ]
  },
  {
   "cell_type": "markdown",
   "id": "MHZjo0Yz4JbO",
   "metadata": {
    "id": "MHZjo0Yz4JbO"
   },
   "source": [
    "- Grouping penyewa sepeda berdasarkan atribut holiday"
   ]
  },
  {
   "cell_type": "code",
   "execution_count": 17,
   "id": "ebbfb1e4-3800-408b-ab4a-a764103b40d7",
   "metadata": {
    "id": "ebbfb1e4-3800-408b-ab4a-a764103b40d7",
    "outputId": "489dd129-bd10-4f39-d107-91da1976ec63"
   },
   "outputs": [
    {
     "data": {
      "text/html": [
       "<div>\n",
       "<style scoped>\n",
       "    .dataframe tbody tr th:only-of-type {\n",
       "        vertical-align: middle;\n",
       "    }\n",
       "\n",
       "    .dataframe tbody tr th {\n",
       "        vertical-align: top;\n",
       "    }\n",
       "\n",
       "    .dataframe thead tr th {\n",
       "        text-align: left;\n",
       "    }\n",
       "\n",
       "    .dataframe thead tr:last-of-type th {\n",
       "        text-align: right;\n",
       "    }\n",
       "</style>\n",
       "<table border=\"1\" class=\"dataframe\">\n",
       "  <thead>\n",
       "    <tr>\n",
       "      <th></th>\n",
       "      <th colspan=\"4\" halign=\"left\">count</th>\n",
       "    </tr>\n",
       "    <tr>\n",
       "      <th></th>\n",
       "      <th>max</th>\n",
       "      <th>min</th>\n",
       "      <th>mean</th>\n",
       "      <th>sum</th>\n",
       "    </tr>\n",
       "    <tr>\n",
       "      <th>holiday</th>\n",
       "      <th></th>\n",
       "      <th></th>\n",
       "      <th></th>\n",
       "      <th></th>\n",
       "    </tr>\n",
       "  </thead>\n",
       "  <tbody>\n",
       "    <tr>\n",
       "      <th>0</th>\n",
       "      <td>8714</td>\n",
       "      <td>22</td>\n",
       "      <td>4527.104225</td>\n",
       "      <td>3214244</td>\n",
       "    </tr>\n",
       "    <tr>\n",
       "      <th>1</th>\n",
       "      <td>7403</td>\n",
       "      <td>1000</td>\n",
       "      <td>3735.000000</td>\n",
       "      <td>78435</td>\n",
       "    </tr>\n",
       "  </tbody>\n",
       "</table>\n",
       "</div>"
      ],
      "text/plain": [
       "        count                            \n",
       "          max   min         mean      sum\n",
       "holiday                                  \n",
       "0        8714    22  4527.104225  3214244\n",
       "1        7403  1000  3735.000000    78435"
      ]
     },
     "execution_count": 17,
     "metadata": {},
     "output_type": "execute_result"
    }
   ],
   "source": [
    "# Grouping penyewa sepeda berdasarkan atribut holiday\n",
    "df_day.groupby(by='holiday', observed=False).agg({\n",
    "    'count': ['max', 'min', 'mean', 'sum']\n",
    "})"
   ]
  },
  {
   "cell_type": "markdown",
   "id": "PjwFgKAf4Pu_",
   "metadata": {
    "id": "PjwFgKAf4Pu_"
   },
   "source": [
    "- Grouping penyewa sepeda berdasarkan atribut weekday"
   ]
  },
  {
   "cell_type": "code",
   "execution_count": 18,
   "id": "a259fe1c-2c5c-4171-b92c-724f6d2acafd",
   "metadata": {
    "id": "a259fe1c-2c5c-4171-b92c-724f6d2acafd",
    "outputId": "37b19de2-71bc-4083-a8d7-993521257fc2"
   },
   "outputs": [
    {
     "data": {
      "text/html": [
       "<div>\n",
       "<style scoped>\n",
       "    .dataframe tbody tr th:only-of-type {\n",
       "        vertical-align: middle;\n",
       "    }\n",
       "\n",
       "    .dataframe tbody tr th {\n",
       "        vertical-align: top;\n",
       "    }\n",
       "\n",
       "    .dataframe thead tr th {\n",
       "        text-align: left;\n",
       "    }\n",
       "\n",
       "    .dataframe thead tr:last-of-type th {\n",
       "        text-align: right;\n",
       "    }\n",
       "</style>\n",
       "<table border=\"1\" class=\"dataframe\">\n",
       "  <thead>\n",
       "    <tr>\n",
       "      <th></th>\n",
       "      <th colspan=\"3\" halign=\"left\">count</th>\n",
       "    </tr>\n",
       "    <tr>\n",
       "      <th></th>\n",
       "      <th>max</th>\n",
       "      <th>min</th>\n",
       "      <th>mean</th>\n",
       "    </tr>\n",
       "    <tr>\n",
       "      <th>weekday</th>\n",
       "      <th></th>\n",
       "      <th></th>\n",
       "      <th></th>\n",
       "    </tr>\n",
       "  </thead>\n",
       "  <tbody>\n",
       "    <tr>\n",
       "      <th>Fri</th>\n",
       "      <td>8362</td>\n",
       "      <td>1167</td>\n",
       "      <td>4690.288462</td>\n",
       "    </tr>\n",
       "    <tr>\n",
       "      <th>Mon</th>\n",
       "      <td>7525</td>\n",
       "      <td>22</td>\n",
       "      <td>4338.123810</td>\n",
       "    </tr>\n",
       "    <tr>\n",
       "      <th>Sat</th>\n",
       "      <td>8714</td>\n",
       "      <td>627</td>\n",
       "      <td>4550.542857</td>\n",
       "    </tr>\n",
       "    <tr>\n",
       "      <th>Sun</th>\n",
       "      <td>8227</td>\n",
       "      <td>605</td>\n",
       "      <td>4228.828571</td>\n",
       "    </tr>\n",
       "    <tr>\n",
       "      <th>Thu</th>\n",
       "      <td>7804</td>\n",
       "      <td>431</td>\n",
       "      <td>4667.259615</td>\n",
       "    </tr>\n",
       "    <tr>\n",
       "      <th>Tue</th>\n",
       "      <td>7767</td>\n",
       "      <td>683</td>\n",
       "      <td>4510.663462</td>\n",
       "    </tr>\n",
       "    <tr>\n",
       "      <th>Wed</th>\n",
       "      <td>8173</td>\n",
       "      <td>441</td>\n",
       "      <td>4548.538462</td>\n",
       "    </tr>\n",
       "  </tbody>\n",
       "</table>\n",
       "</div>"
      ],
      "text/plain": [
       "        count                   \n",
       "          max   min         mean\n",
       "weekday                         \n",
       "Fri      8362  1167  4690.288462\n",
       "Mon      7525    22  4338.123810\n",
       "Sat      8714   627  4550.542857\n",
       "Sun      8227   605  4228.828571\n",
       "Thu      7804   431  4667.259615\n",
       "Tue      7767   683  4510.663462\n",
       "Wed      8173   441  4548.538462"
      ]
     },
     "execution_count": 18,
     "metadata": {},
     "output_type": "execute_result"
    }
   ],
   "source": [
    "# Grouping penyewa sepeda berdasarkan atribut weekday\n",
    "df_day.groupby(by='weekday', observed=False).agg({\n",
    "    'count': ['max', 'min', 'mean']\n",
    "})"
   ]
  },
  {
   "cell_type": "markdown",
   "id": "7SlaaCRA4asD",
   "metadata": {
    "id": "7SlaaCRA4asD"
   },
   "source": [
    "- Grouping penyewa sepeda berdasarkan atribut workingday"
   ]
  },
  {
   "cell_type": "code",
   "execution_count": 19,
   "id": "66f3005d-858f-4550-a609-eb093758e36e",
   "metadata": {
    "id": "66f3005d-858f-4550-a609-eb093758e36e",
    "outputId": "fbe317b2-a001-42dd-fffe-35c793af3607"
   },
   "outputs": [
    {
     "data": {
      "text/html": [
       "<div>\n",
       "<style scoped>\n",
       "    .dataframe tbody tr th:only-of-type {\n",
       "        vertical-align: middle;\n",
       "    }\n",
       "\n",
       "    .dataframe tbody tr th {\n",
       "        vertical-align: top;\n",
       "    }\n",
       "\n",
       "    .dataframe thead tr th {\n",
       "        text-align: left;\n",
       "    }\n",
       "\n",
       "    .dataframe thead tr:last-of-type th {\n",
       "        text-align: right;\n",
       "    }\n",
       "</style>\n",
       "<table border=\"1\" class=\"dataframe\">\n",
       "  <thead>\n",
       "    <tr>\n",
       "      <th></th>\n",
       "      <th colspan=\"3\" halign=\"left\">count</th>\n",
       "    </tr>\n",
       "    <tr>\n",
       "      <th></th>\n",
       "      <th>max</th>\n",
       "      <th>min</th>\n",
       "      <th>mean</th>\n",
       "    </tr>\n",
       "    <tr>\n",
       "      <th>workingday</th>\n",
       "      <th></th>\n",
       "      <th></th>\n",
       "      <th></th>\n",
       "    </tr>\n",
       "  </thead>\n",
       "  <tbody>\n",
       "    <tr>\n",
       "      <th>0</th>\n",
       "      <td>8714</td>\n",
       "      <td>605</td>\n",
       "      <td>4330.168831</td>\n",
       "    </tr>\n",
       "    <tr>\n",
       "      <th>1</th>\n",
       "      <td>8362</td>\n",
       "      <td>22</td>\n",
       "      <td>4584.820000</td>\n",
       "    </tr>\n",
       "  </tbody>\n",
       "</table>\n",
       "</div>"
      ],
      "text/plain": [
       "           count                  \n",
       "             max  min         mean\n",
       "workingday                        \n",
       "0           8714  605  4330.168831\n",
       "1           8362   22  4584.820000"
      ]
     },
     "execution_count": 19,
     "metadata": {},
     "output_type": "execute_result"
    }
   ],
   "source": [
    "# Grouping penyewa sepeda berdasarkan atribut workingday\n",
    "df_day.groupby(by='workingday', observed=False).agg({\n",
    "    'count': ['max', 'min', 'mean']\n",
    "})"
   ]
  },
  {
   "cell_type": "markdown",
   "id": "NVE4SHxz4h5N",
   "metadata": {
    "id": "NVE4SHxz4h5N"
   },
   "source": [
    "- Grouping penyewa sepeda berdasarkan atribut season"
   ]
  },
  {
   "cell_type": "code",
   "execution_count": 20,
   "id": "b2c4df92-660a-42d2-854f-5d873227409e",
   "metadata": {
    "id": "b2c4df92-660a-42d2-854f-5d873227409e",
    "outputId": "f5900bae-8663-420b-fae2-ddcf6ab5a738"
   },
   "outputs": [
    {
     "data": {
      "text/html": [
       "<div>\n",
       "<style scoped>\n",
       "    .dataframe tbody tr th:only-of-type {\n",
       "        vertical-align: middle;\n",
       "    }\n",
       "\n",
       "    .dataframe tbody tr th {\n",
       "        vertical-align: top;\n",
       "    }\n",
       "\n",
       "    .dataframe thead tr th {\n",
       "        text-align: left;\n",
       "    }\n",
       "\n",
       "    .dataframe thead tr:last-of-type th {\n",
       "        text-align: right;\n",
       "    }\n",
       "</style>\n",
       "<table border=\"1\" class=\"dataframe\">\n",
       "  <thead>\n",
       "    <tr>\n",
       "      <th></th>\n",
       "      <th>casual</th>\n",
       "      <th>registered</th>\n",
       "      <th colspan=\"3\" halign=\"left\">count</th>\n",
       "    </tr>\n",
       "    <tr>\n",
       "      <th></th>\n",
       "      <th>mean</th>\n",
       "      <th>mean</th>\n",
       "      <th>max</th>\n",
       "      <th>min</th>\n",
       "      <th>mean</th>\n",
       "    </tr>\n",
       "    <tr>\n",
       "      <th>season</th>\n",
       "      <th></th>\n",
       "      <th></th>\n",
       "      <th></th>\n",
       "      <th></th>\n",
       "      <th></th>\n",
       "    </tr>\n",
       "  </thead>\n",
       "  <tbody>\n",
       "    <tr>\n",
       "      <th>Fall</th>\n",
       "      <td>1202.611702</td>\n",
       "      <td>4441.691489</td>\n",
       "      <td>8714</td>\n",
       "      <td>1115</td>\n",
       "      <td>5644.303191</td>\n",
       "    </tr>\n",
       "    <tr>\n",
       "      <th>Spring</th>\n",
       "      <td>334.928177</td>\n",
       "      <td>2269.204420</td>\n",
       "      <td>7836</td>\n",
       "      <td>431</td>\n",
       "      <td>2604.132597</td>\n",
       "    </tr>\n",
       "    <tr>\n",
       "      <th>Summer</th>\n",
       "      <td>1106.097826</td>\n",
       "      <td>3886.233696</td>\n",
       "      <td>8362</td>\n",
       "      <td>795</td>\n",
       "      <td>4992.331522</td>\n",
       "    </tr>\n",
       "    <tr>\n",
       "      <th>Winter</th>\n",
       "      <td>729.112360</td>\n",
       "      <td>3999.050562</td>\n",
       "      <td>8555</td>\n",
       "      <td>22</td>\n",
       "      <td>4728.162921</td>\n",
       "    </tr>\n",
       "  </tbody>\n",
       "</table>\n",
       "</div>"
      ],
      "text/plain": [
       "             casual   registered count                   \n",
       "               mean         mean   max   min         mean\n",
       "season                                                   \n",
       "Fall    1202.611702  4441.691489  8714  1115  5644.303191\n",
       "Spring   334.928177  2269.204420  7836   431  2604.132597\n",
       "Summer  1106.097826  3886.233696  8362   795  4992.331522\n",
       "Winter   729.112360  3999.050562  8555    22  4728.162921"
      ]
     },
     "execution_count": 20,
     "metadata": {},
     "output_type": "execute_result"
    }
   ],
   "source": [
    "# Grouping penyewa sepeda berdasarkan atribut season\n",
    "df_day.groupby(by='season', observed=False).agg({\n",
    "    'casual': 'mean',\n",
    "    'registered': 'mean',\n",
    "    'count': ['max', 'min', 'mean']\n",
    "})"
   ]
  },
  {
   "cell_type": "markdown",
   "id": "K0y1r-Qt5k8o",
   "metadata": {
    "id": "K0y1r-Qt5k8o"
   },
   "source": [
    "## Visualization & Explanatory Analysis"
   ]
  },
  {
   "cell_type": "markdown",
   "id": "oOlHAbak5o-A",
   "metadata": {
    "id": "oOlHAbak5o-A"
   },
   "source": [
    "### Pertanyaan 1: Bagaimana pengaruh cuaca terhadap jumlah penyewaan sepeda?"
   ]
  },
  {
   "cell_type": "code",
   "execution_count": 21,
   "id": "5cc65179-9ee8-4436-9509-681a1404266c",
   "metadata": {
    "id": "5cc65179-9ee8-4436-9509-681a1404266c",
    "outputId": "137e2028-54e4-4f8b-c86f-0954fbc427a8"
   },
   "outputs": [
    {
     "data": {
      "image/png": "[encoded data removed]",
      "text/plain": [
       "<Figure size 1000x600 with 1 Axes>"
      ]
     },
     "metadata": {},
     "output_type": "display_data"
    }
   ],
   "source": [
    "plt.figure(figsize=(10,6))\n",
    "sns.lineplot(\n",
    "    x='weather_condition',\n",
    "    y='count',\n",
    "    data=df_day\n",
    ")\n",
    "\n",
    "plt.title('Analisis Penyewa Sepeda berdasarkan Kondisi Cuaca')\n",
    "plt.xlabel('Kondisi Cuaca')\n",
    "plt.ylabel('Jumlah Pengguna Sepeda')\n",
    "plt.xticks(rotation=45)\n",
    "plt.grid(True)\n",
    "plt.show()"
   ]
  },
  {
   "cell_type": "markdown",
   "id": "iSGm5b8A56yr",
   "metadata": {
    "id": "iSGm5b8A56yr"
   },
   "source": [
    "### Pertanyaan 2: Bagaimana penyewaan sepeda di weekday,workingday, dan holiday?"
   ]
  },
  {
   "cell_type": "code",
   "execution_count": 22,
   "id": "e33fdc53-5950-4cb0-a74f-c8942305237a",
   "metadata": {
    "id": "e33fdc53-5950-4cb0-a74f-c8942305237a",
    "outputId": "11945c01-4b99-46bb-ebdb-a3d5c7024494"
   },
   "outputs": [
    {
     "data": {
      "image/png": "[encoded data removed]",
      "text/plain": [
       "<Figure size 640x480 with 1 Axes>"
      ]
     },
     "metadata": {},
     "output_type": "display_data"
    }
   ],
   "source": [
    "# Analisis Jumlah Penyewa sepeda berdasarkan hari kerja (workingday), Hari biasa (weekday), dan Hari libur (Holiday)\n",
    "\n",
    "# Berdasarkan hari biasa (weekday)\n",
    "plt.figure()\n",
    "sns.lineplot(\n",
    "  x='weekday',\n",
    "  y='count',\n",
    "  data=df_day,\n",
    "  marker='o',\n",
    "  linestyle='-',\n",
    "  color='blue'\n",
    "  )\n",
    "plt.title('Jumlah Penyewa Sepeda berdasarkan Hari biasa dalam Seminggu', fontsize=14)\n",
    "plt.xlabel('Hari dalam Seminggu', fontsize=12)\n",
    "plt.ylabel('Jumlah Penyewa Sepeda', fontsize=12)\n",
    "\n",
    "plt.grid(True)\n",
    "plt.tight_layout()\n",
    "plt.show()"
   ]
  },
  {
   "cell_type": "code",
   "execution_count": 23,
   "id": "b5065e66-903f-4ffa-b9f3-9f80a8a92890",
   "metadata": {
    "id": "b5065e66-903f-4ffa-b9f3-9f80a8a92890",
    "outputId": "9c2ccc81-a9f0-49b8-9737-fef3464abb16"
   },
   "outputs": [
    {
     "data": {
      "image/png": "[encoded data removed]",
      "text/plain": [
       "<Figure size 1000x600 with 1 Axes>"
      ]
     },
     "metadata": {},
     "output_type": "display_data"
    }
   ],
   "source": [
    "# Berdasarkan hari kerja (workingday)\n",
    "\n",
    "df_day['workingday'] = df_day['workingday'].map({0:'Akhir pekan', 1:'Hari kerja'})\n",
    "\n",
    "plt.figure(figsize=(10,6))\n",
    "sns.barplot(\n",
    "  x='workingday',\n",
    "  y='count',\n",
    "  data=df_day,\n",
    "\n",
    "  )\n",
    "plt.title('Jumlah Penyewa Sepeda berdasarkan Hari Kerja (Workingday)', fontsize=14)\n",
    "plt.xlabel('Hari Kerja', fontsize=12)\n",
    "plt.ylabel('Jumlah Penyewa Sepeda', fontsize=12)\n",
    "\n",
    "plt.grid(True)\n",
    "plt.tight_layout()\n",
    "plt.show()"
   ]
  },
  {
   "cell_type": "code",
   "execution_count": 24,
   "id": "52a28733-4f6e-4212-881d-a223e7ce8945",
   "metadata": {
    "id": "52a28733-4f6e-4212-881d-a223e7ce8945",
    "outputId": "3a93bcb8-11ff-4ae8-b16f-b6f3337ebd45"
   },
   "outputs": [
    {
     "data": {
      "image/png": "[encoded data removed]",
      "text/plain": [
       "<Figure size 1000x600 with 1 Axes>"
      ]
     },
     "metadata": {},
     "output_type": "display_data"
    }
   ],
   "source": [
    "# Berdasarkan hari kerja (workingday)\n",
    "\n",
    "df_day['holiday'] = df_day['holiday'].map({0:'Bukan hari libur', 1:'Hari '})\n",
    "\n",
    "plt.figure(figsize=(10,6))\n",
    "sns.barplot(\n",
    "  x='holiday',\n",
    "  y='count',\n",
    "  data=df_day,\n",
    "\n",
    "  )\n",
    "plt.title('Jumlah Penyewa Sepeda berdasarkan Hari Libur (Holiday)', fontsize=14)\n",
    "plt.xlabel('Hari Libur', fontsize=12)\n",
    "plt.ylabel('Jumlah Penyewa Sepeda', fontsize=12)\n",
    "\n",
    "plt.tight_layout()\n",
    "plt.show()"
   ]
  },
  {
   "cell_type": "markdown",
   "id": "y2hUG4pN6ch3",
   "metadata": {
    "id": "y2hUG4pN6ch3"
   },
   "source": [
    "### Pertanyaan 3: Bagaimana pengaruh musim terhadap jumlah penyewaan sepeda?"
   ]
  },
  {
   "cell_type": "code",
   "execution_count": 25,
   "id": "498f3264-4ff2-4162-956f-5f8da52594a7",
   "metadata": {
    "id": "498f3264-4ff2-4162-956f-5f8da52594a7",
    "outputId": "97a9df28-627f-4b70-ad30-e5c1d92fa6d4"
   },
   "outputs": [
    {
     "data": {
      "image/png": "[encoded data removed]",
      "text/plain": [
       "<Figure size 1000x600 with 1 Axes>"
      ]
     },
     "metadata": {},
     "output_type": "display_data"
    }
   ],
   "source": [
    "# Menghitung jumlah penyewaan berdasarkan musim\n",
    "seasonal_usage = df_day.groupby('season', observed=False)[['registered', 'casual']].sum().reset_index()\n",
    "\n",
    "\n",
    "plt.figure(figsize=(10, 6))\n",
    "\n",
    "plt.plot(\n",
    "    seasonal_usage['season'],\n",
    "    seasonal_usage['registered'],\n",
    "    label='Registered',\n",
    "    color='tab:blue',\n",
    "    marker='o',\n",
    "    linestyle='-',\n",
    "    linewidth=2\n",
    ")\n",
    "\n",
    "plt.plot(\n",
    "    seasonal_usage['season'],\n",
    "    seasonal_usage['casual'],\n",
    "    label='Casual',\n",
    "    color='tab:orange',\n",
    "    marker='s',\n",
    "    linestyle='--',\n",
    "    linewidth=2\n",
    ")\n",
    "\n",
    "plt.xlabel('Season', fontsize=12)\n",
    "plt.ylabel('Jumlah Penyewaan', fontsize=12)\n",
    "plt.title('Jumlah Penyewaan Sepeda Berdasarkan Musim', fontsize=14)\n",
    "\n",
    "plt.grid(True)\n",
    "plt.legend()\n",
    "plt.show()\n"
   ]
  },
  {
   "cell_type": "markdown",
   "id": "2hCi7fZX6Vgx",
   "metadata": {
    "id": "2hCi7fZX6Vgx"
   },
   "source": [
    "### Pertanyaan 4: Bagaimana perbandingan penyewaan sepeda di tahun 2011 dan 2012?"
   ]
  },
  {
   "cell_type": "code",
   "execution_count": 26,
   "id": "ecf18165-ab55-421c-b960-1cc702d65f5d",
   "metadata": {
    "id": "ecf18165-ab55-421c-b960-1cc702d65f5d",
    "outputId": "b6abe9df-3279-4960-9ca6-00291a32e3cd"
   },
   "outputs": [
    {
     "data": {
      "image/png": "[encoded data removed]",
      "text/plain": [
       "<Figure size 1000x600 with 1 Axes>"
      ]
     },
     "metadata": {},
     "output_type": "display_data"
    }
   ],
   "source": [
    "# Analisis perbandingan Penyewaan sepeda pada tahun 2011 dan 2012\n",
    "# Mengonversi kolom 'month' menjadi kategori dengan urutan yang benar\n",
    "df_day['month'] = pd.Categorical(\n",
    "    df_day['month'],\n",
    "    categories=['Jan', 'Feb', 'Mar', 'Apr', 'May', 'Jun',\n",
    "                'Jul', 'Aug', 'Sep', 'Oct', 'Nov', 'Dec'],\n",
    "    ordered=True\n",
    ")\n",
    "\n",
    "monthly_counts = df_day.groupby([\"month\", \"year\"], observed=False)['count'].sum().reset_index()\n",
    "\n",
    "plt.figure(figsize=(10, 6))\n",
    "sns.lineplot(\n",
    "    data=monthly_counts,\n",
    "    x=\"month\",\n",
    "    y=\"count\",\n",
    "    hue=\"year\",\n",
    "    palette=\"rocket\",\n",
    "    marker=\"o\"\n",
    ")\n",
    "\n",
    "plt.title(\"Total Sepeda yang Disewakan Berdasarkan Bulan dan Tahun\", fontsize=14)\n",
    "plt.xlabel(\"Bulan\", fontsize=12)\n",
    "plt.ylabel(\"Jumlah Penyewaan\", fontsize=12)\n",
    "plt.legend(title=\"Tahun\", loc=\"upper right\")\n",
    "\n",
    "plt.grid(True)\n",
    "plt.tight_layout()\n",
    "plt.show()\n"
   ]
  },
  {
   "cell_type": "code",
   "execution_count": null,
   "id": "3d14fb33-3f2e-4e07-a09a-80c4241fed17",
   "metadata": {},
   "outputs": [],
   "source": [
    "## Conclusion"
   ]
  },
  {
   "cell_type": "code",
   "execution_count": null,
   "id": "019c4e5d-2654-4a7a-8821-e9b647473f7d",
   "metadata": {},
   "outputs": [],
   "source": [
    "- Conclution pertanyaan 1 : Bagaimana pengaruh cuaca terhadap jumlah penyewaan sepeda?\n",
    "    Jumlah penyewa sepeda tertinggi adalah saat cuaca cerah (Sunny). Semakin buruk cuaca, semakin sedikit orang yang menyewa sepeda."
   ]
  },
  {
   "cell_type": "code",
   "execution_count": null,
   "id": "e27ddce9-e6bb-4886-a657-382b5f6ddd69",
   "metadata": {},
   "outputs": [],
   "source": [
    "- Conclution pertanyaan 2 : Bagaimana penyewaan sepeda di weekday,workingday, dan holiday?\n",
    "    Jumlah penyewa sepeda cenderung stabil di hari biasa (weekday), dengan sedikit peningkatan di akhir pekan.\n",
    "\n",
    "    Terdapat sedikit perbedaan antara hari kerja (workingday) dan akhir pekan, dengan hari kerja memiliki jumlah penyewa yang sedikit lebih tinggi.\n",
    "\n",
    "    Jumlah penyewa sepeda pada hari libur (holiday) lebih rendah dibandingkan hari biasa."
   ]
  },
  {
   "cell_type": "code",
   "execution_count": null,
   "id": "4364625b-b89b-4737-ab81-2d6797809de1",
   "metadata": {},
   "outputs": [],
   "source": [
    "- Conclution pertanyaan 3 : Bagaimana pengaruh musim terhadap jumlah penyewaan sepeda?\n",
    "    Jumlah penyewa sepeda paling tinggi di musim gugur (Fall) dan musim panas (Summer). Jumlah penyewa paling rendah di musim dingin (Winter).\n",
    "\n",
    "Terdapat perbedaan yang signifikan antara jumlah pengguna terdaftar (registered) dan pengguna biasa (casual) di setiap musim. Pengguna terdaftar cenderung lebih konsisten sepanjang tahun."
   ]
  },
  {
   "cell_type": "code",
   "execution_count": null,
   "id": "bfbb7bd5-9c2a-48ed-ae8d-eb6ebba99df6",
   "metadata": {},
   "outputs": [],
   "source": [
    "- Conclution pertanyaan 4 : Bagaimana perbandingan penyewaan sepeda di tahun 2011 dan 2012?\t\n",
    "    Secara umum, jumlah penyewaan sepeda meningkat pada tahun 2012 dibandingkan tahun 2011. Pola musiman tetap konsisten, dengan puncak di musim panas dan penurunan di musim dingin."
   ]
  }
 ],
 "metadata": {
  "colab": {
   "provenance": []
  },
  "kernelspec": {
   "display_name": "Python 3 (ipykernel)",
   "language": "python",
   "name": "python3"
  },
  "language_info": {
   "codemirror_mode": {
    "name": "ipython",
    "version": 3
   },
   "file_extension": ".py",
   "mimetype": "text/x-python",
   "name": "python",
   "nbconvert_exporter": "python",
   "pygments_lexer": "ipython3",
   "version": "3.12.6"
  }
 },
 "nbformat": 4,
 "nbformat_minor": 5
}
